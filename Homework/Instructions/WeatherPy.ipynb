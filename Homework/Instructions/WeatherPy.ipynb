{
 "cells": [
  {
   "cell_type": "markdown",
   "metadata": {},
   "source": [
    "# WeatherPy\n",
    "----\n",
    "\n",
    "### Analysis\n",
    "* As expected, the weather becomes significantly warmer as one approaches the equator (0 Deg. Latitude). More interestingly, however, is the fact that the southern hemisphere tends to be warmer this time of year than the northern hemisphere. This may be due to the tilt of the earth.\n",
    "* There is no strong relationship between latitude and cloudiness. However, it is interesting to see that a strong band of cities sits at 0, 80, and 100% cloudiness.\n",
    "* There is no strong relationship between latitude and wind speed. However, in northern hemispheres there is a flurry of cities with over 20 mph of wind.\n",
    "\n",
    "---\n",
    "\n",
    "#### Note\n",
    "* Instructions have been included for each segment. You do not have to follow them exactly, but they are included to help you think through the steps."
   ]
  },
  {
   "cell_type": "code",
   "execution_count": 1,
   "metadata": {},
   "outputs": [
    {
     "name": "stdout",
     "output_type": "stream",
     "text": [
      "Requirement already satisfied: citipy in c:\\users\\jorge\\anaconda3\\lib\\site-packages (0.0.5)\n",
      "Requirement already satisfied: kdtree>=0.12 in c:\\users\\jorge\\anaconda3\\lib\\site-packages (from citipy) (0.16)\n",
      "Note: you may need to restart the kernel to use updated packages.\n"
     ]
    }
   ],
   "source": [
    "pip install citipy"
   ]
  },
  {
   "cell_type": "code",
   "execution_count": 2,
   "metadata": {
    "scrolled": true
   },
   "outputs": [],
   "source": [
    "# Dependencies and Setup\n",
    "import matplotlib.pyplot as plt\n",
    "import pandas as pd\n",
    "import numpy as np\n",
    "import requests\n",
    "import time\n",
    "import json\n",
    "\n",
    "# Import API key\n",
    "#import api_keys\n",
    "API_key = \"6726ced767ce0919b0ef1ea275fbfc29\"\n",
    "city_name = \"Toronto\"\n",
    "# Incorporated citipy to determine city based on latitude and longitude\n",
    "from citipy import citipy\n",
    "\n",
    "# Output File (CSV)\n",
    "output_data_file = \"output_data/cities.csv\"\n",
    "\n",
    "# Range of latitudes and longitudes\n",
    "lat_range = (-90, 90)\n",
    "lng_range = (-180, 180)"
   ]
  },
  {
   "cell_type": "markdown",
   "metadata": {},
   "source": [
    "## Generate Cities List"
   ]
  },
  {
   "cell_type": "code",
   "execution_count": 8,
   "metadata": {},
   "outputs": [
    {
     "data": {
      "text/plain": [
       "['dikson',\n",
       " 'bestobe',\n",
       " 'bairiki',\n",
       " 'qaanaaq',\n",
       " 'marsa matruh',\n",
       " 'carnarvon',\n",
       " 'bubaque',\n",
       " 'tura',\n",
       " 'bor',\n",
       " 'arraial do cabo',\n",
       " 'new norfolk',\n",
       " 'mataura',\n",
       " 'jardim',\n",
       " 'busselton',\n",
       " 'bur gabo',\n",
       " 'avarua',\n",
       " 'rio gallegos',\n",
       " 'milingimbi',\n",
       " 'kaitangata',\n",
       " 'airai',\n",
       " 'hilo',\n",
       " 'barrow',\n",
       " 'ushuaia',\n",
       " 'cape town',\n",
       " 'yellowknife',\n",
       " 'barentsburg',\n",
       " 'punta arenas',\n",
       " 'fortuna',\n",
       " 'karhal',\n",
       " 'hobart',\n",
       " 'touros',\n",
       " 'bibiani',\n",
       " 'abomsa',\n",
       " 'tabialan',\n",
       " 'kapaa',\n",
       " 'cockburn harbour',\n",
       " 'black river',\n",
       " 'sitka',\n",
       " 'babu',\n",
       " 'abalak',\n",
       " 'vaini',\n",
       " 'hasaki',\n",
       " 'rikitea']"
      ]
     },
     "execution_count": 8,
     "metadata": {},
     "output_type": "execute_result"
    }
   ],
   "source": [
    "# List for holding lat_lngs and cities\n",
    "lat_lngs = []\n",
    "cities = []\n",
    "\n",
    "# Create a set of random lat and lng combinations\n",
    "lats = np.random.uniform(low=-90.000, high=90.000, size=50)\n",
    "lngs = np.random.uniform(low=-180.000, high=180.000, size=50)\n",
    "lat_lngs = zip(lats, lngs)\n",
    "\n",
    "# Identify nearest city for each lat, lng combination\n",
    "for lat_lng in lat_lngs:\n",
    "    city = citipy.nearest_city(lat_lng[0], lat_lng[1]).city_name\n",
    "    \n",
    "    # If the city is unique, then add it to a our cities list\n",
    "    if city not in cities:\n",
    "        cities.append(city)\n",
    "\n",
    "# Print the city count to confirm sufficient count\n",
    "#len(cities)\n",
    "\n",
    "cities"
   ]
  },
  {
   "cell_type": "code",
   "execution_count": null,
   "metadata": {},
   "outputs": [],
   "source": [
    "lat_lngs"
   ]
  },
  {
   "cell_type": "markdown",
   "metadata": {},
   "source": [
    "### Perform API Calls\n",
    "* Perform a weather check on each city using a series of successive API calls.\n",
    "* Include a print log of each city as it'sbeing processed (with the city number and city name).\n"
   ]
  },
  {
   "cell_type": "code",
   "execution_count": 4,
   "metadata": {},
   "outputs": [],
   "source": [
    "url = f\"https://api.openweathermap.org/data/2.5/weather?units=Imperial&appid={API_key}&q=\""
   ]
  },
  {
   "cell_type": "code",
   "execution_count": 14,
   "metadata": {},
   "outputs": [],
   "source": [
    "#url1 = f\"https://api.openweathermap.org/data/2.5/weather?units=Imperial&appid={API_key}&q=dikson\"\n",
    "# set up lists to hold reponse info\n",
    "cities1 = []\n",
    "cloudiness = []\n",
    "countries = []\n",
    "dates = []\n",
    "humidity = []\n",
    "lats = []\n",
    "lng = []\n",
    "max_temp = []\n",
    "min_temp = []\n",
    "\n",
    "# Loop through the list of cities and perform a request for data on each\n",
    "for x in cities:\n",
    "    try:\n",
    "        response = requests.get(url + x).json()\n",
    "        cities1.append(response[\"name\"])\n",
    "        cloudiness.append(response[\"clouds\"][\"all\"])\n",
    "        countries.append(response[\"sys\"][\"country\"])\n",
    "        dates.append(response[\"dt\"])\n",
    "        humidity.append(response[\"main\"][\"humidity\"])\n",
    "        lats.append(response[\"coord\"][\"lat\"])\n",
    "        lng.append(response[\"coord\"][\"lon\"])\n",
    "        max_temp.append(response[\"main\"][\"temp_max\"])\n",
    "        min_temp.append(response[\"main\"][\"temp_min\"])\n",
    "    \n",
    "    except:\n",
    "        pass"
   ]
  },
  {
   "cell_type": "code",
   "execution_count": 17,
   "metadata": {},
   "outputs": [
    {
     "data": {
      "text/plain": [
       "[]"
      ]
     },
     "execution_count": 17,
     "metadata": {},
     "output_type": "execute_result"
    }
   ],
   "source": [
    "cloudiness"
   ]
  },
  {
   "cell_type": "code",
   "execution_count": 6,
   "metadata": {},
   "outputs": [
    {
     "data": {
      "text/plain": [
       "{'coord': {'lon': -79.42, 'lat': 43.7},\n",
       " 'weather': [{'id': 804,\n",
       "   'main': 'Clouds',\n",
       "   'description': 'overcast clouds',\n",
       "   'icon': '04n'}],\n",
       " 'base': 'stations',\n",
       " 'main': {'temp': 58.75,\n",
       "  'feels_like': 51.66,\n",
       "  'temp_min': 55.4,\n",
       "  'temp_max': 62.6,\n",
       "  'pressure': 1020,\n",
       "  'humidity': 62,\n",
       "  'sea_level': 1020,\n",
       "  'grnd_level': 1000},\n",
       " 'visibility': 10000,\n",
       " 'wind': {'speed': 10.85, 'deg': 222},\n",
       " 'clouds': {'all': 100},\n",
       " 'dt': 1604616833,\n",
       " 'sys': {'type': 1,\n",
       "  'id': 718,\n",
       "  'country': 'CA',\n",
       "  'sunrise': 1604577566,\n",
       "  'sunset': 1604613788},\n",
       " 'timezone': -18000,\n",
       " 'id': 6167865,\n",
       " 'name': 'Toronto',\n",
       " 'cod': 200}"
      ]
     },
     "execution_count": 6,
     "metadata": {},
     "output_type": "execute_result"
    }
   ],
   "source": [
    "url = f\"https://api.openweathermap.org/data/2.5/weather?units=Imperial&q={city_name}&appid={API_key}\"\n",
    "\n",
    "response = requests.get(url).json()\n",
    "response\n"
   ]
  },
  {
   "cell_type": "code",
   "execution_count": 7,
   "metadata": {},
   "outputs": [
    {
     "data": {
      "text/plain": [
       "['Toronto']"
      ]
     },
     "execution_count": 7,
     "metadata": {},
     "output_type": "execute_result"
    }
   ],
   "source": [
    "cities1 = []\n",
    "cloudiness = []\n",
    "countries = []\n",
    "dates = []\n",
    "humidity = []\n",
    "lats = []\n",
    "lng = []\n",
    "max_temp = []\n",
    "min_temp = []\n",
    "\n",
    "cities1.append(response[\"name\"])\n",
    "cloudiness.append(response[\"clouds\"][\"all\"])\n",
    "countries.append(response[\"sys\"][\"country\"])\n",
    "dates.append(response[\"dt\"])\n",
    "humidity.append(response[\"main\"][\"humidity\"])\n",
    "lats.append(response[\"coord\"][\"lat\"])\n",
    "lng.append(response[\"coord\"][\"lon\"])\n",
    "max_temp.append(response[\"main\"][\"temp_max\"])\n",
    "min_temp.append(response[\"main\"][\"temp_min\"])\n",
    "\n",
    "cities1\n"
   ]
  },
  {
   "cell_type": "markdown",
   "metadata": {},
   "source": [
    "### Convert Raw Data to DataFrame\n",
    "* Export the city data into a .csv.\n",
    "* Display the DataFrame"
   ]
  },
  {
   "cell_type": "code",
   "execution_count": null,
   "metadata": {},
   "outputs": [],
   "source": []
  },
  {
   "cell_type": "code",
   "execution_count": null,
   "metadata": {},
   "outputs": [],
   "source": []
  },
  {
   "cell_type": "markdown",
   "metadata": {},
   "source": [
    "### Plotting the Data\n",
    "* Use proper labeling of the plots using plot titles (including date of analysis) and axes labels.\n",
    "* Save the plotted figures as .pngs."
   ]
  },
  {
   "cell_type": "markdown",
   "metadata": {},
   "source": [
    "#### Latitude vs. Temperature Plot"
   ]
  },
  {
   "cell_type": "code",
   "execution_count": null,
   "metadata": {},
   "outputs": [],
   "source": []
  },
  {
   "cell_type": "markdown",
   "metadata": {},
   "source": [
    "#### Latitude vs. Humidity Plot"
   ]
  },
  {
   "cell_type": "code",
   "execution_count": null,
   "metadata": {},
   "outputs": [],
   "source": []
  },
  {
   "cell_type": "markdown",
   "metadata": {},
   "source": [
    "#### Latitude vs. Cloudiness Plot"
   ]
  },
  {
   "cell_type": "code",
   "execution_count": null,
   "metadata": {},
   "outputs": [],
   "source": []
  },
  {
   "cell_type": "markdown",
   "metadata": {},
   "source": [
    "#### Latitude vs. Wind Speed Plot"
   ]
  },
  {
   "cell_type": "code",
   "execution_count": null,
   "metadata": {},
   "outputs": [],
   "source": []
  },
  {
   "cell_type": "code",
   "execution_count": null,
   "metadata": {},
   "outputs": [],
   "source": []
  }
 ],
 "metadata": {
  "anaconda-cloud": {},
  "kernelspec": {
   "display_name": "Python 3",
   "language": "python",
   "name": "python3"
  },
  "language_info": {
   "codemirror_mode": {
    "name": "ipython",
    "version": 3
   },
   "file_extension": ".py",
   "mimetype": "text/x-python",
   "name": "python",
   "nbconvert_exporter": "python",
   "pygments_lexer": "ipython3",
   "version": "3.8.3"
  }
 },
 "nbformat": 4,
 "nbformat_minor": 2
}
