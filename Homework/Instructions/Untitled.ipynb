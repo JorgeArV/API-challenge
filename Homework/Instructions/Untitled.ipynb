{
 "cells": [
  {
   "cell_type": "code",
   "execution_count": 8,
   "metadata": {},
   "outputs": [],
   "source": [
    "import matplotlib.pyplot as plt\n",
    "import pandas as pd\n",
    "import numpy as np\n",
    "import requests\n",
    "import time\n",
    "import json\n",
    "\n",
    "# Import API key\n",
    "#import api_keys\n",
    "API_key = \"6726ced767ce0919b0ef1ea275fbfc29\"\n",
    "city_name = \"Toronto\"\n",
    "# Incorporated citipy to determine city based on latitude and longitude\n",
    "from citipy import citipy\n",
    "\n",
    "# Output File (CSV)\n",
    "output_data_file = \"output_data/cities.csv\"\n",
    "\n",
    "# Range of latitudes and longitudes\n",
    "lat_range = (-90, 90)\n",
    "lng_range = (-180, 180)"
   ]
  },
  {
   "cell_type": "code",
   "execution_count": 45,
   "metadata": {},
   "outputs": [
    {
     "data": {
      "text/plain": [
       "869"
      ]
     },
     "execution_count": 45,
     "metadata": {},
     "output_type": "execute_result"
    }
   ],
   "source": [
    "# List for holding lat_lngs and cities\n",
    "lat_lngs = []\n",
    "cities = []\n",
    "\n",
    "# Create a set of random lat and lng combinations\n",
    "lats = np.random.uniform(low=-90.000, high=0.000, size=600)\n",
    "lngs = np.random.uniform(low=-180.000, high=0.000, size=600)\n",
    "lat_lngs = zip(lats, lngs)\n",
    "\n",
    "# Identify nearest city for each lat, lng combination\n",
    "for lat_lng in lat_lngs:\n",
    "    city = citipy.nearest_city(lat_lng[0], lat_lng[1]).city_name\n",
    "    \n",
    "    # If the city is unique, then add it to a our cities list\n",
    "    if city not in cities:\n",
    "        cities.append(city)\n",
    "\n",
    "lats = np.random.uniform(low=0.000, high=90.000, size=600)\n",
    "lngs = np.random.uniform(low=-180.000, high=0.000, size=600)\n",
    "lat_lngs = zip(lats, lngs)\n",
    "\n",
    "# Identify nearest city for each lat, lng combination\n",
    "for lat_lng in lat_lngs:\n",
    "    city = citipy.nearest_city(lat_lng[0], lat_lng[1]).city_name\n",
    "    \n",
    "    # If the city is unique, then add it to a our cities list\n",
    "    if city not in cities:\n",
    "        cities.append(city)\n",
    "\n",
    "lats = np.random.uniform(low=0.000, high=90.000, size=600)\n",
    "lngs = np.random.uniform(low=0.000, high=180.000, size=600)\n",
    "lat_lngs = zip(lats, lngs)\n",
    "\n",
    "# Identify nearest city for each lat, lng combination\n",
    "for lat_lng in lat_lngs:\n",
    "    city = citipy.nearest_city(lat_lng[0], lat_lng[1]).city_name\n",
    "    \n",
    "    # If the city is unique, then add it to a our cities list\n",
    "    if city not in cities:\n",
    "        cities.append(city)\n",
    "\n",
    "lats = np.random.uniform(low=-90.000, high=0.000, size=600)\n",
    "lngs = np.random.uniform(low=-0.000, high=180.000, size=600)\n",
    "lat_lngs = zip(lats, lngs)\n",
    "\n",
    "# Identify nearest city for each lat, lng combination\n",
    "for lat_lng in lat_lngs:\n",
    "    city = citipy.nearest_city(lat_lng[0], lat_lng[1]).city_name\n",
    "    \n",
    "    # If the city is unique, then add it to a our cities list\n",
    "    if city not in cities:\n",
    "        cities.append(city)\n",
    "\n",
    "# Print the city count to confirm sufficient count\n",
    "len(cities)\n",
    "\n",
    "#cities"
   ]
  },
  {
   "cell_type": "code",
   "execution_count": 10,
   "metadata": {},
   "outputs": [],
   "source": [
    "url = f\"https://api.openweathermap.org/data/2.5/weather?units=Imperial&appid={API_key}&q=\""
   ]
  },
  {
   "cell_type": "code",
   "execution_count": 46,
   "metadata": {},
   "outputs": [],
   "source": [
    "#url1 = f\"https://api.openweathermap.org/data/2.5/weather?units=Imperial&appid={API_key}&q=dikson\"\n",
    "# set up lists to hold reponse info\n",
    "cities1 = []\n",
    "cloudiness = []\n",
    "countries = []\n",
    "dates = []\n",
    "humidity = []\n",
    "lats = []\n",
    "lng = []\n",
    "max_temp = []\n",
    "speed_w = []\n",
    "counter = 50\n",
    "# Loop through the list of cities and perform a request for data on each\n",
    "for x in cities:\n",
    "    if len(cities1) <= counter: \n",
    "        try:\n",
    "            response = requests.get(url + x).json()\n",
    "            cities1.append(response[\"name\"])\n",
    "            cloudiness.append(response[\"clouds\"][\"all\"])\n",
    "            countries.append(response[\"sys\"][\"country\"])\n",
    "            dates.append(response[\"dt\"])\n",
    "            humidity.append(response[\"main\"][\"humidity\"])\n",
    "            lats.append(response[\"coord\"][\"lat\"])\n",
    "            lng.append(response[\"coord\"][\"lon\"])\n",
    "            max_temp.append(response[\"main\"][\"temp_max\"])\n",
    "            speed_w.append(response[\"wind\"][\"speed\"])\n",
    "    \n",
    "        except:\n",
    "            pass\n",
    "    else:\n",
    "        time.sleep(3)\n",
    "        \n",
    "        try:\n",
    "            response = requests.get(url + x).json()\n",
    "            cities1.append(response[\"name\"])\n",
    "            cloudiness.append(response[\"clouds\"][\"all\"])\n",
    "            countries.append(response[\"sys\"][\"country\"])\n",
    "            dates.append(response[\"dt\"])\n",
    "            humidity.append(response[\"main\"][\"humidity\"])\n",
    "            lats.append(response[\"coord\"][\"lat\"])\n",
    "            lng.append(response[\"coord\"][\"lon\"])\n",
    "            max_temp.append(response[\"main\"][\"temp_max\"])\n",
    "            speed_w.append(response[\"wind\"][\"speed\"])\n",
    "    \n",
    "        except:\n",
    "            pass\n",
    "        \n",
    "        counter = counter + 50\n",
    "        "
   ]
  },
  {
   "cell_type": "code",
   "execution_count": 47,
   "metadata": {},
   "outputs": [
    {
     "data": {
      "text/plain": [
       "802"
      ]
     },
     "execution_count": 47,
     "metadata": {},
     "output_type": "execute_result"
    }
   ],
   "source": [
    "len(cities1)\n",
    "len(cloudiness)\n",
    "len(countries)\n",
    "len(dates)\n",
    "len(humidity)\n",
    "len(lats)\n",
    "lng)\n",
    "max_temp = []\n",
    "speed_w = []"
   ]
  },
  {
   "cell_type": "code",
   "execution_count": 22,
   "metadata": {},
   "outputs": [
    {
     "data": {
      "text/html": [
       "<div>\n",
       "<style scoped>\n",
       "    .dataframe tbody tr th:only-of-type {\n",
       "        vertical-align: middle;\n",
       "    }\n",
       "\n",
       "    .dataframe tbody tr th {\n",
       "        vertical-align: top;\n",
       "    }\n",
       "\n",
       "    .dataframe thead th {\n",
       "        text-align: right;\n",
       "    }\n",
       "</style>\n",
       "<table border=\"1\" class=\"dataframe\">\n",
       "  <thead>\n",
       "    <tr style=\"text-align: right;\">\n",
       "      <th></th>\n",
       "      <th>City</th>\n",
       "      <th>Cloudiness</th>\n",
       "      <th>Country</th>\n",
       "      <th>Date</th>\n",
       "      <th>Humidity</th>\n",
       "      <th>Lat</th>\n",
       "      <th>Lng</th>\n",
       "      <th>Max Temp</th>\n",
       "      <th>Wind Speed</th>\n",
       "    </tr>\n",
       "  </thead>\n",
       "  <tbody>\n",
       "    <tr>\n",
       "      <th>0</th>\n",
       "      <td>Longyearbyen</td>\n",
       "      <td>75</td>\n",
       "      <td>SJ</td>\n",
       "      <td>1604677227</td>\n",
       "      <td>80</td>\n",
       "      <td>78.22</td>\n",
       "      <td>15.64</td>\n",
       "      <td>35.60</td>\n",
       "      <td>35.60</td>\n",
       "    </tr>\n",
       "    <tr>\n",
       "      <th>1</th>\n",
       "      <td>Arona</td>\n",
       "      <td>20</td>\n",
       "      <td>ES</td>\n",
       "      <td>1604677227</td>\n",
       "      <td>36</td>\n",
       "      <td>28.10</td>\n",
       "      <td>-16.68</td>\n",
       "      <td>78.80</td>\n",
       "      <td>66.99</td>\n",
       "    </tr>\n",
       "    <tr>\n",
       "      <th>2</th>\n",
       "      <td>Karoi</td>\n",
       "      <td>23</td>\n",
       "      <td>ZW</td>\n",
       "      <td>1604677227</td>\n",
       "      <td>27</td>\n",
       "      <td>-16.81</td>\n",
       "      <td>29.69</td>\n",
       "      <td>84.88</td>\n",
       "      <td>84.88</td>\n",
       "    </tr>\n",
       "    <tr>\n",
       "      <th>3</th>\n",
       "      <td>Vaini</td>\n",
       "      <td>75</td>\n",
       "      <td>TO</td>\n",
       "      <td>1604677218</td>\n",
       "      <td>83</td>\n",
       "      <td>-21.20</td>\n",
       "      <td>-175.20</td>\n",
       "      <td>73.40</td>\n",
       "      <td>73.40</td>\n",
       "    </tr>\n",
       "    <tr>\n",
       "      <th>4</th>\n",
       "      <td>Silvino Lobos</td>\n",
       "      <td>100</td>\n",
       "      <td>PH</td>\n",
       "      <td>1604677228</td>\n",
       "      <td>95</td>\n",
       "      <td>12.30</td>\n",
       "      <td>124.83</td>\n",
       "      <td>76.55</td>\n",
       "      <td>76.55</td>\n",
       "    </tr>\n",
       "    <tr>\n",
       "      <th>...</th>\n",
       "      <td>...</td>\n",
       "      <td>...</td>\n",
       "      <td>...</td>\n",
       "      <td>...</td>\n",
       "      <td>...</td>\n",
       "      <td>...</td>\n",
       "      <td>...</td>\n",
       "      <td>...</td>\n",
       "      <td>...</td>\n",
       "    </tr>\n",
       "    <tr>\n",
       "      <th>263</th>\n",
       "      <td>Shenjiamen</td>\n",
       "      <td>39</td>\n",
       "      <td>CN</td>\n",
       "      <td>1604677307</td>\n",
       "      <td>84</td>\n",
       "      <td>29.96</td>\n",
       "      <td>122.30</td>\n",
       "      <td>65.41</td>\n",
       "      <td>65.41</td>\n",
       "    </tr>\n",
       "    <tr>\n",
       "      <th>264</th>\n",
       "      <td>Takaka</td>\n",
       "      <td>99</td>\n",
       "      <td>NZ</td>\n",
       "      <td>1604677307</td>\n",
       "      <td>93</td>\n",
       "      <td>-40.85</td>\n",
       "      <td>172.80</td>\n",
       "      <td>57.99</td>\n",
       "      <td>57.99</td>\n",
       "    </tr>\n",
       "    <tr>\n",
       "      <th>265</th>\n",
       "      <td>Churāchāndpur</td>\n",
       "      <td>0</td>\n",
       "      <td>IN</td>\n",
       "      <td>1604677308</td>\n",
       "      <td>96</td>\n",
       "      <td>24.33</td>\n",
       "      <td>93.67</td>\n",
       "      <td>60.69</td>\n",
       "      <td>60.69</td>\n",
       "    </tr>\n",
       "    <tr>\n",
       "      <th>266</th>\n",
       "      <td>Kapuskasing</td>\n",
       "      <td>100</td>\n",
       "      <td>CA</td>\n",
       "      <td>1604677308</td>\n",
       "      <td>86</td>\n",
       "      <td>49.42</td>\n",
       "      <td>-82.43</td>\n",
       "      <td>41.00</td>\n",
       "      <td>41.00</td>\n",
       "    </tr>\n",
       "    <tr>\n",
       "      <th>267</th>\n",
       "      <td>Nome</td>\n",
       "      <td>90</td>\n",
       "      <td>US</td>\n",
       "      <td>1604677308</td>\n",
       "      <td>80</td>\n",
       "      <td>64.50</td>\n",
       "      <td>-165.41</td>\n",
       "      <td>39.99</td>\n",
       "      <td>39.00</td>\n",
       "    </tr>\n",
       "  </tbody>\n",
       "</table>\n",
       "<p>268 rows × 9 columns</p>\n",
       "</div>"
      ],
      "text/plain": [
       "              City  Cloudiness Country        Date  Humidity    Lat     Lng  \\\n",
       "0     Longyearbyen          75      SJ  1604677227        80  78.22   15.64   \n",
       "1            Arona          20      ES  1604677227        36  28.10  -16.68   \n",
       "2            Karoi          23      ZW  1604677227        27 -16.81   29.69   \n",
       "3            Vaini          75      TO  1604677218        83 -21.20 -175.20   \n",
       "4    Silvino Lobos         100      PH  1604677228        95  12.30  124.83   \n",
       "..             ...         ...     ...         ...       ...    ...     ...   \n",
       "263     Shenjiamen          39      CN  1604677307        84  29.96  122.30   \n",
       "264         Takaka          99      NZ  1604677307        93 -40.85  172.80   \n",
       "265  Churāchāndpur           0      IN  1604677308        96  24.33   93.67   \n",
       "266    Kapuskasing         100      CA  1604677308        86  49.42  -82.43   \n",
       "267           Nome          90      US  1604677308        80  64.50 -165.41   \n",
       "\n",
       "     Max Temp  Wind Speed  \n",
       "0       35.60       35.60  \n",
       "1       78.80       66.99  \n",
       "2       84.88       84.88  \n",
       "3       73.40       73.40  \n",
       "4       76.55       76.55  \n",
       "..        ...         ...  \n",
       "263     65.41       65.41  \n",
       "264     57.99       57.99  \n",
       "265     60.69       60.69  \n",
       "266     41.00       41.00  \n",
       "267     39.99       39.00  \n",
       "\n",
       "[268 rows x 9 columns]"
      ]
     },
     "execution_count": 22,
     "metadata": {},
     "output_type": "execute_result"
    }
   ],
   "source": [
    "dataframe = {\"City\":cities1, \"Cloudiness\":cloudiness, \"Country\":countries, \"Date\":dates, \"Humidity\":humidity, \"Lat\":lats, \"Lng\":lng, \"Max Temp\":max_temp, \"Wind Speed\": min_temp}\n",
    "dataframe = pd.DataFrame(dataframe)\n",
    "dataframe"
   ]
  },
  {
   "cell_type": "code",
   "execution_count": 15,
   "metadata": {},
   "outputs": [],
   "source": [
    "# Plotting the Data\n",
    "#Use proper labeling of the plots using plot titles (including date of analysis) and axes labels.\n",
    "#Save the plotted figures as .pngs."
   ]
  },
  {
   "cell_type": "code",
   "execution_count": 35,
   "metadata": {},
   "outputs": [
    {
     "data": {
      "image/png": "[encoded data removed]",
      "text/plain": [
       "<Figure size 432x288 with 1 Axes>"
      ]
     },
     "metadata": {
      "needs_background": "light"
     },
     "output_type": "display_data"
    }
   ],
   "source": [
    "plt.scatter(dataframe[\"Lat\"],dataframe[\"Max Temp\"],edgecolors=\"black\",linewidth=0.8)\n",
    "plt.title(\"City Latitude vs. Max Temperature (11/06/20)\")\n",
    "plt.xlabel(\"Latitude\")\n",
    "plt.ylabel(\"Max Temperature (F)\")\n",
    "plt.grid()\n",
    "plt.show()"
   ]
  },
  {
   "cell_type": "code",
   "execution_count": 39,
   "metadata": {},
   "outputs": [
    {
     "data": {
      "image/png": "[encoded data removed]",
      "text/plain": [
       "<Figure size 432x288 with 1 Axes>"
      ]
     },
     "metadata": {
      "needs_background": "light"
     },
     "output_type": "display_data"
    }
   ],
   "source": [
    "plt.scatter(dataframe[\"Lat\"],dataframe[\"Humidity\"],edgecolors=\"black\",linewidth=0.8)\n",
    "plt.title(\"City Latitude vs. Humidity (11/06/20)\")\n",
    "plt.xlabel(\"Latitude\")\n",
    "plt.ylabel(\"Max Temperature (F)\")\n",
    "plt.grid()\n",
    "plt.show()"
   ]
  },
  {
   "cell_type": "code",
   "execution_count": 40,
   "metadata": {},
   "outputs": [
    {
     "data": {
      "image/png": "[encoded data removed]",
      "text/plain": [
       "<Figure size 432x288 with 1 Axes>"
      ]
     },
     "metadata": {
      "needs_background": "light"
     },
     "output_type": "display_data"
    }
   ],
   "source": [
    "plt.scatter(dataframe[\"Lat\"],dataframe[\"Cloudiness\"],edgecolors=\"black\",linewidth=0.8)\n",
    "plt.title(\"City Latitude vs. Cloudiness (11/06/20)\")\n",
    "plt.xlabel(\"Latitude\")\n",
    "plt.ylabel(\"Cloudiness (%)\")\n",
    "plt.grid()\n",
    "plt.show()"
   ]
  },
  {
   "cell_type": "code",
   "execution_count": null,
   "metadata": {},
   "outputs": [],
   "source": [
    "lats = np.random.uniform(low=-90.000, high=90.000, size=500)\n",
    "lngs = np.random.uniform(low=-180.000, high=180.000, size=500)\n",
    "lat_lngs = zip(lats, lngs)"
   ]
  },
  {
   "cell_type": "code",
   "execution_count": null,
   "metadata": {},
   "outputs": [],
   "source": []
  }
 ],
 "metadata": {
  "kernelspec": {
   "display_name": "Python 3",
   "language": "python",
   "name": "python3"
  },
  "language_info": {
   "codemirror_mode": {
    "name": "ipython",
    "version": 3
   },
   "file_extension": ".py",
   "mimetype": "text/x-python",
   "name": "python",
   "nbconvert_exporter": "python",
   "pygments_lexer": "ipython3",
   "version": "3.8.3"
  }
 },
 "nbformat": 4,
 "nbformat_minor": 4
}
